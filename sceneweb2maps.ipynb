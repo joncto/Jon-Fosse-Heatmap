{
 "cells": [
  {
   "cell_type": "markdown",
   "id": "16f4b027",
   "metadata": {},
   "source": [
    "# Jon Fosse Maps"
   ]
  },
  {
   "cell_type": "markdown",
   "id": "2cc3d5c0",
   "metadata": {},
   "source": [
    "This notebook utilise data from Sceneweb about theatre productions based on plays by Jon Fosse, to create map visualisations. The objective is to visualise the geographical distribution of Fosse's work over time (1994-2024).\n",
    "\n",
    "The script:\n",
    "- loads data from Excel\n",
    "- geocode addresses and place names into geo-coordinates (OpenCage's Geocoding API)\n",
    "- creates an interactive map with all productions\n",
    "- creates a heatmap of productions over time"
   ]
  },
  {
   "cell_type": "markdown",
   "id": "4000ec06",
   "metadata": {},
   "source": [
    "## Import packages"
   ]
  },
  {
   "cell_type": "code",
   "execution_count": 19,
   "id": "a0a10d5a",
   "metadata": {},
   "outputs": [],
   "source": [
    "import pandas as pd\n",
    "import json\n",
    "from geopy.geocoders import GoogleV3\n",
    "import time\n",
    "import folium\n",
    "from folium.plugins import TimeSliderChoropleth\n",
    "from folium.plugins import TimestampedGeoJson"
   ]
  },
  {
   "cell_type": "markdown",
   "id": "4d26b225",
   "metadata": {},
   "source": [
    "### Load data"
   ]
  },
  {
   "cell_type": "code",
   "execution_count": 3,
   "id": "dfe50e4c",
   "metadata": {},
   "outputs": [],
   "source": [
    "df = pd.read_excel('./data/sceneweb_fosse_productions_cleaned.xlsx')"
   ]
  },
  {
   "cell_type": "markdown",
   "id": "d33c4d0c",
   "metadata": {},
   "source": [
    "## Geocode addresses to coordinates"
   ]
  },
  {
   "cell_type": "code",
   "execution_count": null,
   "id": "336cf088",
   "metadata": {},
   "outputs": [],
   "source": [
    "from opencage.geocoder import OpenCageGeocode\n",
    "\n",
    "key = 'API-key' # Replace with your own API key\n",
    "geocoder = OpenCageGeocode(key)\n",
    "\n",
    "def geocode_address(row):\n",
    "    address = f\"{row['street']}, {row['postal-code']} {row['place']}, {row['country']}\"\n",
    "    result = geocoder.geocode(address)\n",
    "    time.sleep(2)  # Ensures compliance with OpenCage's rate limit of 1 request per second\n",
    "    if result:\n",
    "        latitude = result[0]['geometry']['lat']\n",
    "        longitude = result[0]['geometry']['lng']\n",
    "        return pd.Series([latitude, longitude])\n",
    "    return pd.Series([None, None])\n",
    "\n",
    "df[['latitude', 'longitude']] = df.apply(geocode_address, axis=1)"
   ]
  },
  {
   "cell_type": "markdown",
   "id": "f30d0669",
   "metadata": {},
   "source": [
    "## Convert date-premiere to datetime"
   ]
  },
  {
   "cell_type": "code",
   "execution_count": 9,
   "id": "68af0302",
   "metadata": {},
   "outputs": [],
   "source": [
    "# Convert date-premiere to datetime\n",
    "df['date-premiere'] = pd.to_datetime(df['date-premiere'])\n",
    "\n",
    "# Extract the year for grouping in the map\n",
    "df['year'] = df['date-premiere'].dt.year"
   ]
  },
  {
   "cell_type": "markdown",
   "id": "da99d030",
   "metadata": {},
   "source": [
    "## Base map with pins"
   ]
  },
  {
   "cell_type": "markdown",
   "id": "0a81316b",
   "metadata": {},
   "source": [
    "The code cell below creates an interactive base map with pins for all of the productions in the dataset.\n",
    "\n",
    "You can also [preview the interactive map here](http://htmlpreview.github.io/?https://github.com/joncto/Jon-Fosse-Heatmap/blob/main/Jon-Fosse-Heatmap/output/fosse-map-pins.html)."
   ]
  },
  {
   "cell_type": "code",
   "execution_count": 10,
   "id": "9c827177",
   "metadata": {},
   "outputs": [],
   "source": [
    "# Base map (set the initial location)\n",
    "map = folium.Map(location=[48.8566, 2.3522], zoom_start=5)\n",
    "\n",
    "# Prepare data\n",
    "data = df[['latitude', 'longitude', 'year', 'title', 'place']].dropna()\n",
    "\n",
    "# Function to create popup\n",
    "def make_popup(row):\n",
    "    return folium.Popup(f\"{row['title']} at {row['place']}, {row['year']}\")\n",
    "\n",
    "# Plot each point\n",
    "for idx, row in data.iterrows():\n",
    "    folium.Marker(\n",
    "        [row['latitude'], row['longitude']],\n",
    "        popup=make_popup(row)\n",
    "    ).add_to(map)\n",
    "\n",
    "# Save or display the map\n",
    "map.save('./output/fosse-map-pins.html')\n"
   ]
  },
  {
   "cell_type": "markdown",
   "id": "e8c0e0e2",
   "metadata": {},
   "source": [
    "## Heatmap with time"
   ]
  },
  {
   "cell_type": "markdown",
   "id": "28ec6866",
   "metadata": {},
   "source": [
    "The code cell below creates a heatmap visualising the distribution of productions over time (per year).\n",
    "\n",
    "You can also [preview the heatmap here](http://htmlpreview.github.io/?https://github.com/joncto/Jon-Fosse-Heatmap/blob/main/Jon-Fosse-Heatmap/output/fosse-heatmap.html)."
   ]
  },
  {
   "cell_type": "code",
   "execution_count": 15,
   "id": "034dc082",
   "metadata": {},
   "outputs": [],
   "source": [
    "import folium\n",
    "from folium.plugins import HeatMapWithTime\n",
    "\n",
    "# Base map\n",
    "m = folium.Map(location=[45.8566, 0.3522], zoom_start=2)  # You can adjust the initial location\n",
    "\n",
    "# Prepare data for the HeatMapWithTime\n",
    "data_by_year = []\n",
    "years = sorted(df['year'].unique())\n",
    "\n",
    "for year in years:\n",
    "    year_data = df[df['year'] == year][['latitude', 'longitude']].dropna()\n",
    "    data_by_year.append(year_data.values.tolist())  # Each entry is a list of [lat, lng]\n",
    "\n",
    "# Create a HeatMapWithTime\n",
    "heatmap = HeatMapWithTime(data_by_year, index=years, auto_play=True, max_opacity=0.8)\n",
    "\n",
    "# Add it to the base map\n",
    "heatmap.add_to(m)\n",
    "\n",
    "# Save the map to html (which can be opened in a web browser)\n",
    "m.save('./output/animated_heatmap.html')"
   ]
  }
 ],
 "metadata": {
  "kernelspec": {
   "display_name": "Python 3 (ipykernel)",
   "language": "python",
   "name": "python3"
  },
  "language_info": {
   "codemirror_mode": {
    "name": "ipython",
    "version": 3
   },
   "file_extension": ".py",
   "mimetype": "text/x-python",
   "name": "python",
   "nbconvert_exporter": "python",
   "pygments_lexer": "ipython3",
   "version": "3.11.5"
  }
 },
 "nbformat": 4,
 "nbformat_minor": 5
}
